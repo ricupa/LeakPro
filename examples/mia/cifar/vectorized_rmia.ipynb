{
 "cells": [
  {
   "cell_type": "markdown",
   "metadata": {},
   "source": [
    "# CIFAR Vectorized RMIA Example\n",
    "\n",
    "This notebook mirrors `cifar_main.ipynb` but configures the RMIA attack to use the vectorized fast path."
   ]
  },
  {
   "cell_type": "code",
   "execution_count": null,
   "metadata": {},
   "outputs": [],
   "source": [
    "# import os\n",
    "# import sys\n",
    "# import yaml\n",
    "\n",
    "# project_root = os.path.abspath(os.path.join(os.getcwd(), \"../../..\"))\n",
    "# sys.path.insert(0, project_root)\n"
   ]
  },
  {
   "cell_type": "markdown",
   "metadata": {},
   "source": [
    "Next, we create the population dataset by concatenating the train and test data. To create the population, we make use of the UserDataset provided in the InputHandler."
   ]
  },
  {
   "cell_type": "code",
   "execution_count": 1,
   "metadata": {},
   "outputs": [],
   "source": [
    "import os\n",
    "import sys\n",
    "import yaml\n",
    "from torchvision.datasets import CIFAR10, CIFAR100\n",
    "from torch import cat, tensor\n",
    "import pickle\n",
    "from cifar_handler import CifarInputHandler\n",
    "\n",
    "# Load the config.yaml file\n",
    "with open('train_config.yaml', 'r') as file:\n",
    "    train_config = yaml.safe_load(file)\n",
    "    \n",
    "root = train_config[\"data\"][\"data_dir\"]\n",
    "path = os.path.join(os.getcwd(), root)\n",
    "# Load the CIFAR train and test datasets\n",
    "if train_config[\"data\"][\"dataset\"] == \"cifar10\":\n",
    "    trainset = CIFAR10(root=root, train=True, download=True)\n",
    "    testset = CIFAR10(root=root, train=False, download=True)\n",
    "elif train_config[\"data\"][\"dataset\"] == \"cifar100\":\n",
    "    trainset = CIFAR100(root=root, train=True, download=True)\n",
    "    testset = CIFAR100(root=root, train=False, download=True)\n",
    "else:\n",
    "    raise ValueError(\"Unknown dataset type\")\n",
    "\n",
    "train_data = tensor(trainset.data).permute(0, 3, 1, 2).float() / 255  # (N, C, H, W)\n",
    "test_data = tensor(testset.data).permute(0, 3, 1, 2).float() / 255\n",
    "\n",
    "# Ensure train and test data looks correct\n",
    "assert train_data.shape[0] == 50000, \"Train data should have 50000 samples\"\n",
    "assert test_data.shape[0] == 10000, \"Test data should have 10000 samples\"\n",
    "assert train_data.shape[1] == 3, \"Data should have 3 channels\"\n",
    "assert test_data.shape[1] == 3, \"Data should have 3 channels\"\n",
    "assert train_data.max() <= 1 and train_data.min() >= 0, \"Data should be normalized\"\n",
    "assert test_data.max() <= 1 and test_data.min() >= 0, \"Data should be normalized\"\n",
    "\n",
    "# Concatenate train and test data into the population\n",
    "data = cat([train_data.clone().detach(), test_data.clone().detach()], dim=0)\n",
    "targets = cat([tensor(trainset.targets), tensor(testset.targets)], dim=0)\n",
    "# Create UserDataset object\n",
    "population_dataset = CifarInputHandler.UserDataset(data, targets)\n",
    "\n",
    "assert len(population_dataset) == 60000, \"Population dataset should have 60000 samples\"\n",
    "\n",
    "# Store the population dataset to be used by LeakPro\n",
    "dataset_name = train_config[\"data\"][\"dataset\"]\n",
    "file_path =  \"data/\"+ dataset_name + \".pkl\"\n",
    "if not os.path.exists(file_path):\n",
    "    with open(file_path, \"wb\") as file:\n",
    "        pickle.dump(population_dataset, file)\n",
    "        print(f\"Save data to {file_path}\")"
   ]
  },
  {
   "cell_type": "markdown",
   "metadata": {},
   "source": [
    "\n",
    "With the population dataset stored, we next create the train and test set that will go in to training the target model."
   ]
  },
  {
   "cell_type": "code",
   "execution_count": 2,
   "metadata": {},
   "outputs": [
    {
     "name": "stdout",
     "output_type": "stream",
     "text": [
      "Train mean: tensor([[[0.4932]],\n",
      "\n",
      "        [[0.4839]],\n",
      "\n",
      "        [[0.4484]]]), Train std: tensor([[[0.2468]],\n",
      "\n",
      "        [[0.2433]],\n",
      "\n",
      "        [[0.2620]]])\n"
     ]
    }
   ],
   "source": [
    "from sklearn.model_selection import train_test_split\n",
    "from torch.utils.data import DataLoader\n",
    "import numpy as np\n",
    "\n",
    "train_fraction = train_config[\"data\"][\"f_train\"]\n",
    "test_fraction = train_config[\"data\"][\"f_test\"]\n",
    "batch_size = train_config[\"train\"][\"batch_size\"]\n",
    "\n",
    "dataset_size = len(population_dataset)\n",
    "train_size = int(train_fraction * dataset_size)\n",
    "test_size = int(test_fraction * dataset_size)\n",
    "\n",
    "selected_index = np.random.choice(np.arange(dataset_size), train_size + test_size, replace=False)\n",
    "train_indices, test_indices = train_test_split(selected_index, test_size=test_size)\n",
    "\n",
    "train_subset = CifarInputHandler.UserDataset(data[train_indices], targets[train_indices])\n",
    "test_subset = CifarInputHandler.UserDataset(data[test_indices], targets[test_indices], **train_subset.return_params())\n",
    "\n",
    "train_loader = DataLoader(train_subset, batch_size = batch_size, shuffle = True)\n",
    "test_loader = DataLoader(test_subset, batch_size = batch_size, shuffle = False)\n",
    "\n",
    "# Evaluate mean and variance of the train data\n",
    "train_mean = train_subset.mean\n",
    "train_std = train_subset.std\n",
    "print (f\"Train mean: {train_mean}, Train std: {train_std}\")"
   ]
  },
  {
   "cell_type": "markdown",
   "metadata": {},
   "source": [
    "\n",
    "With the train and test dataloader in place, we train a ResNet18. \n",
    "After training, we call LeakPro to create metadata that will be used during auditing."
   ]
  },
  {
   "cell_type": "code",
   "execution_count": 3,
   "metadata": {},
   "outputs": [
    {
     "name": "stderr",
     "output_type": "stream",
     "text": [
      "Epoch 1/25: 100%|██████████| 106/106 [00:12<00:00,  8.81it/s, acc=0.1861, loss=2.2857]\n"
     ]
    },
    {
     "name": "stdout",
     "output_type": "stream",
     "text": [
      "Validation loss at epoch 1: 2.1455\n"
     ]
    },
    {
     "name": "stderr",
     "output_type": "stream",
     "text": [
      "Epoch 2/25: 100%|██████████| 106/106 [00:11<00:00,  9.04it/s, acc=0.2845, loss=1.8571]\n"
     ]
    },
    {
     "name": "stdout",
     "output_type": "stream",
     "text": [
      "Validation loss at epoch 2: 2.0074\n"
     ]
    },
    {
     "name": "stderr",
     "output_type": "stream",
     "text": [
      "Epoch 3/25: 100%|██████████| 106/106 [00:11<00:00,  9.06it/s, acc=0.3338, loss=1.7384]\n"
     ]
    },
    {
     "name": "stdout",
     "output_type": "stream",
     "text": [
      "Validation loss at epoch 3: 2.6027\n"
     ]
    },
    {
     "name": "stderr",
     "output_type": "stream",
     "text": [
      "Epoch 4/25: 100%|██████████| 106/106 [00:11<00:00,  9.00it/s, acc=0.3588, loss=1.6719]\n"
     ]
    },
    {
     "name": "stdout",
     "output_type": "stream",
     "text": [
      "Validation loss at epoch 4: 2.2926\n"
     ]
    },
    {
     "name": "stderr",
     "output_type": "stream",
     "text": [
      "Epoch 5/25: 100%|██████████| 106/106 [00:11<00:00,  9.03it/s, acc=0.3995, loss=1.5876]\n"
     ]
    },
    {
     "name": "stdout",
     "output_type": "stream",
     "text": [
      "Validation loss at epoch 5: 2.3363\n"
     ]
    },
    {
     "name": "stderr",
     "output_type": "stream",
     "text": [
      "Epoch 6/25: 100%|██████████| 106/106 [00:11<00:00,  9.02it/s, acc=0.4387, loss=1.4999]\n"
     ]
    },
    {
     "name": "stdout",
     "output_type": "stream",
     "text": [
      "Validation loss at epoch 6: 4.4708\n"
     ]
    },
    {
     "name": "stderr",
     "output_type": "stream",
     "text": [
      "Epoch 7/25: 100%|██████████| 106/106 [00:11<00:00,  9.01it/s, acc=0.4605, loss=1.4492]\n"
     ]
    },
    {
     "name": "stdout",
     "output_type": "stream",
     "text": [
      "Validation loss at epoch 7: 2.3571\n"
     ]
    },
    {
     "name": "stderr",
     "output_type": "stream",
     "text": [
      "Epoch 8/25: 100%|██████████| 106/106 [00:24<00:00,  4.38it/s, acc=0.4675, loss=1.4337]\n"
     ]
    },
    {
     "name": "stdout",
     "output_type": "stream",
     "text": [
      "Validation loss at epoch 8: 1.8643\n"
     ]
    },
    {
     "name": "stderr",
     "output_type": "stream",
     "text": [
      "Epoch 9/25: 100%|██████████| 106/106 [00:23<00:00,  4.58it/s, acc=0.4848, loss=1.3917]\n"
     ]
    },
    {
     "name": "stdout",
     "output_type": "stream",
     "text": [
      "Validation loss at epoch 9: 2.0979\n"
     ]
    },
    {
     "name": "stderr",
     "output_type": "stream",
     "text": [
      "Epoch 10/25: 100%|██████████| 106/106 [00:23<00:00,  4.56it/s, acc=0.4911, loss=1.3731]\n"
     ]
    },
    {
     "name": "stdout",
     "output_type": "stream",
     "text": [
      "Validation loss at epoch 10: 2.0744\n"
     ]
    },
    {
     "name": "stderr",
     "output_type": "stream",
     "text": [
      "Epoch 11/25: 100%|██████████| 106/106 [00:23<00:00,  4.52it/s, acc=0.5110, loss=1.3313]\n"
     ]
    },
    {
     "name": "stdout",
     "output_type": "stream",
     "text": [
      "Validation loss at epoch 11: 2.4388\n"
     ]
    },
    {
     "name": "stderr",
     "output_type": "stream",
     "text": [
      "Epoch 12/25: 100%|██████████| 106/106 [00:23<00:00,  4.55it/s, acc=0.5131, loss=1.3310]\n"
     ]
    },
    {
     "name": "stdout",
     "output_type": "stream",
     "text": [
      "Validation loss at epoch 12: 2.9566\n"
     ]
    },
    {
     "name": "stderr",
     "output_type": "stream",
     "text": [
      "Epoch 13/25: 100%|██████████| 106/106 [00:24<00:00,  4.34it/s, acc=0.5194, loss=1.3095]\n"
     ]
    },
    {
     "name": "stdout",
     "output_type": "stream",
     "text": [
      "Validation loss at epoch 13: 1.9689\n"
     ]
    },
    {
     "name": "stderr",
     "output_type": "stream",
     "text": [
      "Epoch 14/25: 100%|██████████| 106/106 [00:24<00:00,  4.35it/s, acc=0.5301, loss=1.2814]\n"
     ]
    },
    {
     "name": "stdout",
     "output_type": "stream",
     "text": [
      "Validation loss at epoch 14: 2.4161\n"
     ]
    },
    {
     "name": "stderr",
     "output_type": "stream",
     "text": [
      "Epoch 15/25: 100%|██████████| 106/106 [00:24<00:00,  4.35it/s, acc=0.5367, loss=1.2624]\n"
     ]
    },
    {
     "name": "stdout",
     "output_type": "stream",
     "text": [
      "Validation loss at epoch 15: 1.5164\n"
     ]
    },
    {
     "name": "stderr",
     "output_type": "stream",
     "text": [
      "Epoch 16/25: 100%|██████████| 106/106 [00:24<00:00,  4.37it/s, acc=0.5427, loss=1.2497]\n"
     ]
    },
    {
     "name": "stdout",
     "output_type": "stream",
     "text": [
      "Validation loss at epoch 16: 1.7068\n"
     ]
    },
    {
     "name": "stderr",
     "output_type": "stream",
     "text": [
      "Epoch 17/25: 100%|██████████| 106/106 [00:23<00:00,  4.58it/s, acc=0.5541, loss=1.2186]\n"
     ]
    },
    {
     "name": "stdout",
     "output_type": "stream",
     "text": [
      "Validation loss at epoch 17: 1.5159\n"
     ]
    },
    {
     "name": "stderr",
     "output_type": "stream",
     "text": [
      "Epoch 18/25: 100%|██████████| 106/106 [00:23<00:00,  4.55it/s, acc=0.5641, loss=1.1952]\n"
     ]
    },
    {
     "name": "stdout",
     "output_type": "stream",
     "text": [
      "Validation loss at epoch 18: 1.5671\n"
     ]
    },
    {
     "name": "stderr",
     "output_type": "stream",
     "text": [
      "Epoch 19/25: 100%|██████████| 106/106 [00:23<00:00,  4.55it/s, acc=0.5703, loss=1.1760]\n"
     ]
    },
    {
     "name": "stdout",
     "output_type": "stream",
     "text": [
      "Validation loss at epoch 19: 2.3641\n"
     ]
    },
    {
     "name": "stderr",
     "output_type": "stream",
     "text": [
      "Epoch 20/25: 100%|██████████| 106/106 [00:23<00:00,  4.55it/s, acc=0.5793, loss=1.1493]\n"
     ]
    },
    {
     "name": "stdout",
     "output_type": "stream",
     "text": [
      "Validation loss at epoch 20: 1.3220\n"
     ]
    },
    {
     "name": "stderr",
     "output_type": "stream",
     "text": [
      "Epoch 21/25: 100%|██████████| 106/106 [00:23<00:00,  4.55it/s, acc=0.5900, loss=1.1285]\n"
     ]
    },
    {
     "name": "stdout",
     "output_type": "stream",
     "text": [
      "Validation loss at epoch 21: 1.4051\n"
     ]
    },
    {
     "name": "stderr",
     "output_type": "stream",
     "text": [
      "Epoch 22/25: 100%|██████████| 106/106 [00:23<00:00,  4.55it/s, acc=0.5969, loss=1.1065]\n"
     ]
    },
    {
     "name": "stdout",
     "output_type": "stream",
     "text": [
      "Validation loss at epoch 22: 1.1979\n"
     ]
    },
    {
     "name": "stderr",
     "output_type": "stream",
     "text": [
      "Epoch 23/25: 100%|██████████| 106/106 [00:23<00:00,  4.51it/s, acc=0.6053, loss=1.0815]\n"
     ]
    },
    {
     "name": "stdout",
     "output_type": "stream",
     "text": [
      "Validation loss at epoch 23: 1.1321\n"
     ]
    },
    {
     "name": "stderr",
     "output_type": "stream",
     "text": [
      "Epoch 24/25: 100%|██████████| 106/106 [00:23<00:00,  4.54it/s, acc=0.6125, loss=1.0640]\n"
     ]
    },
    {
     "name": "stdout",
     "output_type": "stream",
     "text": [
      "Validation loss at epoch 24: 1.1197\n"
     ]
    },
    {
     "name": "stderr",
     "output_type": "stream",
     "text": [
      "Epoch 25/25: 100%|██████████| 106/106 [00:23<00:00,  4.50it/s, acc=0.6173, loss=1.0524]\n"
     ]
    },
    {
     "name": "stdout",
     "output_type": "stream",
     "text": [
      "Validation loss at epoch 25: 1.1115\n"
     ]
    }
   ],
   "source": [
    "from torch import save, optim, nn\n",
    "from cifar_handler import CifarInputHandler\n",
    "from target_model_class import ResNet18, WideResNet\n",
    "\n",
    "# Train the model\n",
    "if not os.path.exists(\"target\"):\n",
    "    os.makedirs(\"target\")\n",
    "if train_config[\"data\"][\"dataset\"] == \"cifar10\":\n",
    "    num_classes = 10\n",
    "elif train_config[\"data\"][\"dataset\"] == \"cifar100\":\n",
    "    num_classes = 100\n",
    "else:\n",
    "    raise ValueError(\"Invalid dataset name\")\n",
    "\n",
    "# Create instance of target model\n",
    "#model = ResNet18(num_classes = num_classes)\n",
    "model =  WideResNet(depth=28, num_classes=num_classes, widen_factor=2)\n",
    "\n",
    "# Read out the relevant parameters for training\n",
    "lr = train_config[\"train\"][\"learning_rate\"]\n",
    "weight_decay = train_config[\"train\"][\"weight_decay\"]\n",
    "epochs = train_config[\"train\"][\"epochs\"]\n",
    "    \n",
    "# Create optimizer and loss function\n",
    "criterion = nn.CrossEntropyLoss()\n",
    "optimizer = optim.Adam(model.parameters(), lr=lr, weight_decay=weight_decay)\n",
    "\n",
    "# train target model\n",
    "train_result = CifarInputHandler().train(dataloader=train_loader,\n",
    "                            model=model,\n",
    "                            criterion=criterion,\n",
    "                            optimizer=optimizer,\n",
    "                            epochs=epochs)\n",
    "\n",
    "# Evaluate on test set\n",
    "test_result = CifarInputHandler().eval(test_loader, model, criterion)\n",
    "\n",
    "# Store the model and metadata\n",
    "model = train_result.model\n",
    "model.to(\"cpu\")\n",
    "with open(train_config[\"run\"][\"log_dir\"]+\"/target_model.pkl\", \"wb\") as f:\n",
    "    save(model.state_dict(), f)\n",
    "\n",
    "# Create metadata to be used by LeakPro\n",
    "from leakpro import LeakPro\n",
    "meta_data = LeakPro.make_mia_metadata(train_result = train_result,\n",
    "                                      optimizer = optimizer,\n",
    "                                      loss_fn = criterion,\n",
    "                                      dataloader = train_loader,\n",
    "                                      test_result = test_result,\n",
    "                                      epochs = epochs,\n",
    "                                      train_indices = train_indices,\n",
    "                                      test_indices = test_indices,\n",
    "                                      dataset_name = dataset_name)\n",
    "\n",
    "with open(\"target/model_metadata.pkl\", \"wb\") as f:\n",
    "    pickle.dump(meta_data, f)\n",
    "    "
   ]
  },
  {
   "cell_type": "markdown",
   "metadata": {},
   "source": [
    "Plot accuracy and test of training and test."
   ]
  },
  {
   "cell_type": "code",
   "execution_count": 4,
   "metadata": {},
   "outputs": [
    {
     "data": {
      "image/png": "[encoded data removed]",
      "text/plain": [
       "<Figure size 500x400 with 2 Axes>"
      ]
     },
     "metadata": {},
     "output_type": "display_data"
    }
   ],
   "source": [
    "import matplotlib.pyplot as plt\n",
    "\n",
    "train_acc = train_result.metrics.extra[\"accuracy_history\"]\n",
    "train_loss = train_result.metrics.extra[\"loss_history\"]\n",
    "test_acc = test_result.accuracy\n",
    "test_loss = test_result.loss\n",
    "\n",
    "# Plot training and test accuracy\n",
    "plt.figure(figsize=(5, 4))\n",
    "\n",
    "plt.subplot(1, 2, 1)\n",
    "plt.plot(train_acc, label='Train Accuracy')\n",
    "plt.plot(len(train_loss)-1, test_acc, 'ro', label='Test Accuracy')\n",
    "plt.xlabel('Epoch')\n",
    "plt.ylabel('Accuracy')\n",
    "plt.title('Accuracy over Epochs')\n",
    "plt.legend()\n",
    "\n",
    "# Plot training and test loss\n",
    "plt.subplot(1, 2, 2)\n",
    "plt.plot(train_loss, label='Train Loss')\n",
    "plt.plot(len(train_loss)-1, test_loss, 'ro', label='Test Loss')\n",
    "plt.xlabel('Epoch')\n",
    "plt.ylabel('Loss')\n",
    "plt.title('Loss over Epochs')\n",
    "plt.legend()\n",
    "\n",
    "plt.tight_layout()\n",
    "plt.show()"
   ]
  },
  {
   "cell_type": "markdown",
   "metadata": {},
   "source": [
    "## Privacy Auditing with Vectorized RMIA\n",
    "\n",
    "1. Create a LeakPro instance using the CIFAR input handler.\n",
    "2. Clone `audit.yaml`, set `vectorized=True` for RMIA (and keep other attacks unchanged).\n",
    "3. Run the audit and collect the results.\n"
   ]
  },
  {
   "cell_type": "code",
   "execution_count": 5,
   "metadata": {},
   "outputs": [
    {
     "name": "stderr",
     "output_type": "stream",
     "text": [
      "2025-10-30 14:53:21,850 INFO     Target model blueprint created from WideResNet in ./target_model_class.py.\n",
      "10/30/2025 14:53:21:INFO:Target model blueprint created from WideResNet in ./target_model_class.py.\n",
      "2025-10-30 14:53:21,914 INFO     Loaded target model metadata from ./target/model_metadata.pkl\n",
      "10/30/2025 14:53:21:INFO:Loaded target model metadata from ./target/model_metadata.pkl\n",
      "2025-10-30 14:53:21,989 INFO     Loaded target model from ./target\n",
      "10/30/2025 14:53:21:INFO:Loaded target model from ./target\n",
      "2025-10-30 14:53:23,250 INFO     Loaded population dataset from ./data/cifar10.pkl\n",
      "10/30/2025 14:53:23:INFO:Loaded population dataset from ./data/cifar10.pkl\n",
      "2025-10-30 14:53:27.816088: I tensorflow/core/util/port.cc:153] oneDNN custom operations are on. You may see slightly different numerical results due to floating-point round-off errors from different computation orders. To turn them off, set the environment variable `TF_ENABLE_ONEDNN_OPTS=0`.\n",
      "2025-10-30 14:53:27.880037: I tensorflow/core/platform/cpu_feature_guard.cc:210] This TensorFlow binary is optimized to use available CPU instructions in performance-critical operations.\n",
      "To enable the following instructions: AVX2 AVX512F AVX512_VNNI FMA, in other operations, rebuild TensorFlow with the appropriate compiler flags.\n",
      "2025-10-30 14:53:29.446691: I tensorflow/core/util/port.cc:153] oneDNN custom operations are on. You may see slightly different numerical results due to floating-point round-off errors from different computation orders. To turn them off, set the environment variable `TF_ENABLE_ONEDNN_OPTS=0`.\n",
      "2025-10-30 14:53:29,690 INFO     MIA attack factory loaded.\n",
      "10/30/2025 14:53:29:INFO:MIA attack factory loaded.\n",
      "2025-10-30 14:53:29,693 INFO     Creating shadow model handler singleton\n",
      "10/30/2025 14:53:29:INFO:Creating shadow model handler singleton\n",
      "2025-10-30 14:53:29,715 INFO     Logits already cached at leakpro_output/attack_cache/target_logits.npy\n",
      "10/30/2025 14:53:29:INFO:Logits already cached at leakpro_output/attack_cache/target_logits.npy\n",
      "2025-10-30 14:53:29,717 INFO     Creating distillation model handler singleton\n",
      "10/30/2025 14:53:29:INFO:Creating distillation model handler singleton\n",
      "2025-10-30 14:53:29,737 INFO     Logits already cached at leakpro_output/attack_cache/target_logits.npy\n",
      "10/30/2025 14:53:29:INFO:Logits already cached at leakpro_output/attack_cache/target_logits.npy\n",
      "2025-10-30 14:53:29,739 INFO     Configuring the RMIA attack\n",
      "10/30/2025 14:53:29:INFO:Configuring the RMIA attack\n",
      "2025-10-30 14:53:29,763 INFO     Added attack: rmia\n",
      "10/30/2025 14:53:29:INFO:Added attack: rmia\n",
      "2025-10-30 14:53:29,765 INFO     Shadow model handler singleton already exists, updating state\n",
      "10/30/2025 14:53:29:INFO:Shadow model handler singleton already exists, updating state\n",
      "2025-10-30 14:53:29,785 INFO     Logits already cached at leakpro_output/attack_cache/target_logits.npy\n",
      "10/30/2025 14:53:29:INFO:Logits already cached at leakpro_output/attack_cache/target_logits.npy\n",
      "2025-10-30 14:53:29,787 INFO     Distillation model handler singleton already exists, updating state\n",
      "10/30/2025 14:53:29:INFO:Distillation model handler singleton already exists, updating state\n",
      "2025-10-30 14:53:29,808 INFO     Logits already cached at leakpro_output/attack_cache/target_logits.npy\n",
      "10/30/2025 14:53:29:INFO:Logits already cached at leakpro_output/attack_cache/target_logits.npy\n",
      "2025-10-30 14:53:29,809 INFO     Configuring the BASE attack\n",
      "10/30/2025 14:53:29:INFO:Configuring the BASE attack\n",
      "2025-10-30 14:53:29,833 INFO     Added attack: base\n",
      "10/30/2025 14:53:29:INFO:Added attack: base\n",
      "2025-10-30 14:53:29,835 INFO     Preparing attack: rmia\n",
      "10/30/2025 14:53:29:INFO:Preparing attack: rmia\n",
      "2025-10-30 14:53:29,837 INFO     Preparing shadow models for RMIA attack\n",
      "10/30/2025 14:53:29:INFO:Preparing shadow models for RMIA attack\n",
      "2025-10-30 14:53:29,842 INFO     Check for 1 shadow models (dataset: 60000 points)\n",
      "10/30/2025 14:53:29:INFO:Check for 1 shadow models (dataset: 60000 points)\n",
      "2025-10-30 14:53:29,883 INFO     Number of existing models exceeds or equals the number of models to create\n",
      "10/30/2025 14:53:29:INFO:Number of existing models exceeds or equals the number of models to create\n",
      "2025-10-30 14:53:29,884 INFO     Loading shadow model 0\n",
      "10/30/2025 14:53:29:INFO:Loading shadow model 0\n",
      "2025-10-30 14:53:30,000 INFO     Loaded model from ./cifar10/leakpro_output/attack_objects/shadow_model/shadow_model_0.pkl\n",
      "10/30/2025 14:53:30:INFO:Loaded model from ./cifar10/leakpro_output/attack_objects/shadow_model/shadow_model_0.pkl\n",
      "2025-10-30 14:53:30,003 INFO     Loading metadata 0\n",
      "10/30/2025 14:53:30:INFO:Loading metadata 0\n",
      "2025-10-30 14:53:32,358 INFO     Loaded logits from leakpro_output/attack_cache/target_logits.npy\n",
      "10/30/2025 14:53:32:INFO:Loaded logits from leakpro_output/attack_cache/target_logits.npy\n",
      "2025-10-30 14:53:32,371 INFO     Loaded logits from leakpro_output/attack_cache/sm_0_logits.npy\n",
      "10/30/2025 14:53:32:INFO:Loaded logits from leakpro_output/attack_cache/sm_0_logits.npy\n",
      "2025-10-30 14:53:33,330 INFO     Running attack: rmia\n",
      "10/30/2025 14:53:33:INFO:Running attack: rmia\n",
      "2025-10-30 14:53:33,333 INFO     Running RMIA online attack\n",
      "10/30/2025 14:53:33:INFO:Running RMIA online attack\n",
      "/mnt/shared/richa/LeakPro/leakpro/attacks/mia_attacks/rmia.py:448: RuntimeWarning: Mean of empty slice\n",
      "  p_x_out = np.nanmean(masked_values, axis=0)\n",
      "/mnt/shared/richa/LeakPro/leakpro/attacks/mia_attacks/rmia.py:92: RuntimeWarning: Mean of empty slice\n",
      "  prior = np.nanmean(ref, axis=1)\n",
      "2025-10-30 14:54:39,738 INFO     Saving results for attack: rmia to cifar10/leakpro_output/results\n",
      "10/30/2025 14:54:39:INFO:Saving results for attack: rmia to cifar10/leakpro_output/results\n",
      "2025-10-30 14:54:39,984 INFO     Creating ROC plot for attackrmia\n",
      "10/30/2025 14:54:39:INFO:Creating ROC plot for attackrmia\n",
      "2025-10-30 14:54:42,932 INFO     Creating SignalHistogram plot for attackrmia\n",
      "10/30/2025 14:54:42:INFO:Creating SignalHistogram plot for attackrmia\n",
      "2025-10-30 14:54:44,629 INFO     Preparing attack: base\n",
      "10/30/2025 14:54:44:INFO:Preparing attack: base\n",
      "2025-10-30 14:54:44,632 INFO     Preparing shadow models for BASE attack\n",
      "10/30/2025 14:54:44:INFO:Preparing shadow models for BASE attack\n",
      "2025-10-30 14:54:44,638 INFO     Check for 2 shadow models (dataset: 60000 points)\n",
      "10/30/2025 14:54:44:INFO:Check for 2 shadow models (dataset: 60000 points)\n",
      "2025-10-30 14:54:44,678 INFO     Number of existing models exceeds or equals the number of models to create\n",
      "10/30/2025 14:54:44:INFO:Number of existing models exceeds or equals the number of models to create\n",
      "2025-10-30 14:54:44,680 INFO     Loading shadow model 0\n",
      "10/30/2025 14:54:44:INFO:Loading shadow model 0\n",
      "2025-10-30 14:54:44,775 INFO     Loaded model from ./cifar10/leakpro_output/attack_objects/shadow_model/shadow_model_0.pkl\n",
      "10/30/2025 14:54:44:INFO:Loaded model from ./cifar10/leakpro_output/attack_objects/shadow_model/shadow_model_0.pkl\n",
      "2025-10-30 14:54:44,777 INFO     Loading shadow model 1\n",
      "10/30/2025 14:54:44:INFO:Loading shadow model 1\n",
      "2025-10-30 14:54:44,863 INFO     Loaded model from ./cifar10/leakpro_output/attack_objects/shadow_model/shadow_model_1.pkl\n",
      "10/30/2025 14:54:44:INFO:Loaded model from ./cifar10/leakpro_output/attack_objects/shadow_model/shadow_model_1.pkl\n",
      "2025-10-30 14:54:44,866 INFO     Loading metadata 0\n",
      "10/30/2025 14:54:44:INFO:Loading metadata 0\n",
      "2025-10-30 14:54:44,884 INFO     Loading metadata 1\n",
      "10/30/2025 14:54:44:INFO:Loading metadata 1\n",
      "2025-10-30 14:54:44,935 INFO     Running attack: base\n",
      "10/30/2025 14:54:44:INFO:Running attack: base\n",
      "2025-10-30 14:54:44,937 INFO     Running offline BASE attack with 2 shadow models\n",
      "10/30/2025 14:54:44:INFO:Running offline BASE attack with 2 shadow models\n",
      "2025-10-30 14:54:46,983 INFO     Loaded logits from leakpro_output/attack_cache/target_logits.npy\n",
      "10/30/2025 14:54:46:INFO:Loaded logits from leakpro_output/attack_cache/target_logits.npy\n",
      "2025-10-30 14:54:46,996 INFO     Loaded logits from leakpro_output/attack_cache/sm_0_logits.npy\n",
      "10/30/2025 14:54:46:INFO:Loaded logits from leakpro_output/attack_cache/sm_0_logits.npy\n",
      "2025-10-30 14:54:47,010 INFO     Loaded logits from leakpro_output/attack_cache/sm_1_logits.npy\n",
      "10/30/2025 14:54:47:INFO:Loaded logits from leakpro_output/attack_cache/sm_1_logits.npy\n",
      "2025-10-30 14:54:47,145 INFO     Saving results for attack: base to cifar10/leakpro_output/results\n",
      "10/30/2025 14:54:47:INFO:Saving results for attack: base to cifar10/leakpro_output/results\n",
      "2025-10-30 14:54:47,659 INFO     Creating ROC plot for attackbase\n",
      "10/30/2025 14:54:47:INFO:Creating ROC plot for attackbase\n",
      "2025-10-30 14:54:50,517 INFO     Creating SignalHistogram plot for attackbase\n",
      "10/30/2025 14:54:50:INFO:Creating SignalHistogram plot for attackbase\n",
      "2025-10-30 14:54:52,331 INFO     Creating PDF report\n",
      "10/30/2025 14:54:52:INFO:Creating PDF report\n",
      "2025-10-30 14:54:52,334 INFO     Initializing report handler...\n",
      "10/30/2025 14:54:52:INFO:Initializing report handler...\n",
      "2025-10-30 14:54:52,335 INFO     report_dir set to: ./cifar10/leakpro_output/results\n",
      "10/30/2025 14:54:52:INFO:report_dir set to: ./cifar10/leakpro_output/results\n",
      "2025-10-30 14:55:01,087 INFO     No results of type GIAResults found.\n",
      "10/30/2025 14:55:01:INFO:No results of type GIAResults found.\n",
      "2025-10-30 14:55:01,090 INFO     No results of type SinglingOutResults found.\n",
      "10/30/2025 14:55:01:INFO:No results of type SinglingOutResults found.\n",
      "2025-10-30 14:55:01,091 INFO     No results of type InferenceResults found.\n",
      "10/30/2025 14:55:01:INFO:No results of type InferenceResults found.\n",
      "2025-10-30 14:55:01,093 INFO     No results of type LinkabilityResults found.\n",
      "10/30/2025 14:55:01:INFO:No results of type LinkabilityResults found.\n",
      "2025-10-30 14:55:01,101 INFO     Could not compile PDF: Command '['which', 'pdflatex']' returned non-zero exit status 1.\n",
      "10/30/2025 14:55:01:INFO:Could not compile PDF: Command '['which', 'pdflatex']' returned non-zero exit status 1.\n",
      "2025-10-30 14:55:01,102 INFO     Make sure to install pdflatex with apt install texlive-latex-base\n",
      "10/30/2025 14:55:01:INFO:Make sure to install pdflatex with apt install texlive-latex-base\n",
      "2025-10-30 14:55:01,104 INFO     Auditing completed\n",
      "10/30/2025 14:55:01:INFO:Auditing completed\n"
     ]
    },
    {
     "data": {
      "text/plain": [
       "<Figure size 640x480 with 0 Axes>"
      ]
     },
     "metadata": {},
     "output_type": "display_data"
    }
   ],
   "source": [
    "import copy\n",
    "import yaml\n",
    "\n",
    "config_path = \"audit.yaml\"\n",
    "from leakpro import LeakPro\n",
    "from cifar_handler import CifarInputHandler\n",
    "\n",
    "with open(config_path, \"r\") as f:\n",
    "    audit_config = yaml.safe_load(f)\n",
    "\n",
    "vectorized_config = copy.deepcopy(audit_config)\n",
    "attack_section = vectorized_config['audit'].get('attack_list', [])\n",
    "attack_map = {}\n",
    "if isinstance(attack_section, list):\n",
    "    for entry in attack_section:\n",
    "        name = entry.get('attack')\n",
    "        params = {k: v for k, v in entry.items() if k != 'attack'}\n",
    "        attack_map[name] = params\n",
    "elif isinstance(attack_section, dict):\n",
    "    attack_map = copy.deepcopy(attack_section)\n",
    "else:\n",
    "    raise ValueError('Unsupported attack_list structure')\n",
    "\n",
    "rmia_cfg = attack_map.get('rmia', {}) or {}\n",
    "rmia_cfg['vectorized'] = True\n",
    "rmia_cfg.setdefault('vec_batch_points', 1024)\n",
    "rmia_cfg.setdefault('vec_use_all_z', False)\n",
    "rmia_cfg.setdefault('vec_z_chunk', 2048)\n",
    "attack_map['rmia'] = rmia_cfg\n",
    "\n",
    "attack_list = []\n",
    "for name, params in attack_map.items():\n",
    "    if name is None:\n",
    "        continue\n",
    "    entry = {'attack': name}\n",
    "    if params is not None:\n",
    "        entry.update(params)\n",
    "    attack_list.append(entry)\n",
    "vectorized_config['audit']['attack_list'] = attack_list\n",
    "\n",
    "vectorized_config_path = \"audit_vectorized.yaml\"\n",
    "with open(vectorized_config_path, 'w') as f:\n",
    "    yaml.safe_dump(vectorized_config, f, sort_keys=False)\n",
    "\n",
    "# Instantiate LeakPro with the vectorized RMIA configuration\n",
    "leakpro = LeakPro(CifarInputHandler, vectorized_config_path)\n",
    "\n",
    "# Run the audit\n",
    "mia_results = leakpro.run_audit(create_pdf=True)\n"
   ]
  },
  {
   "cell_type": "code",
   "execution_count": 6,
   "metadata": {},
   "outputs": [
    {
     "data": {
      "image/png": "[encoded data removed]",
      "text/plain": [
       "<Figure size 1200x400 with 2 Axes>"
      ]
     },
     "metadata": {},
     "output_type": "display_data"
    }
   ],
   "source": [
    "import numpy as np\n",
    "import matplotlib.pyplot as plt\n",
    "\n",
    "def plot_results(results, labels=None, smarts=None):\n",
    "    fig, axs = plt.subplots(1, 2, figsize=(12, 4))\n",
    "    for ax, flag in zip(axs, [True, False]):\n",
    "        for i, (fpr, tpr) in enumerate(results):\n",
    "            label = None if labels is None else labels[i]\n",
    "            smart = '-' if smarts is None else smarts[i]\n",
    "            if flag:\n",
    "                ax.plot(fpr, tpr, smart, label=label)\n",
    "            else:\n",
    "                ax.loglog(fpr, tpr, smart, label=label)\n",
    "        if results:\n",
    "            diag = np.linspace(1e-6 if not flag else 0.0, 1.0, 200)\n",
    "            ax.plot(diag, diag, 'r--', label='random')\n",
    "        ax.set_xlabel('FPR')\n",
    "        ax.set_ylabel('TPR')\n",
    "        ax.set_title('ROC Curve')\n",
    "    plt.show()\n",
    "\n",
    "mia_roc_curves = []\n",
    "labels = []\n",
    "for result in mia_results:\n",
    "    fpr = getattr(result, 'fpr', None)\n",
    "    tpr = getattr(result, 'tpr', None)\n",
    "    if fpr is None or tpr is None:\n",
    "        continue\n",
    "    mia_roc_curves.append((fpr, tpr))\n",
    "    labels.append(result.result_name)\n",
    "\n",
    "if mia_roc_curves:\n",
    "    plot_results(mia_roc_curves, labels=labels)\n",
    "else:\n",
    "    print('No ROC curves available to plot.')\n"
   ]
  },
  {
   "cell_type": "markdown",
   "metadata": {},
   "source": [
    "### Reusing Cached Logits\n",
    "\n",
    "If you already trained the target and shadow models and cached their logits plus the membership mask, you can load them and feed them straight into `vectorized_rmia_score`. The next cell demonstrates both the load-from-disk path and a synthetic fallback so you can exercise the code even when the cached files are absent.\n"
   ]
  },
  {
   "cell_type": "code",
   "execution_count": null,
   "metadata": {},
   "outputs": [],
   "source": [
    "from pathlib import Path\n",
    "import numpy as np\n",
    "\n",
    "from leakpro.attacks.mia_attacks.rmia import vectorized_rmia_score\n",
    "\n",
    "shadow_path = Path(\"shadow_logits.npy\")\n",
    "inmask_path = Path(\"shadow_inmask.npy\")\n",
    "target_path = Path(\"target_logits.npy\")\n",
    "\n",
    "if shadow_path.exists() and inmask_path.exists() and target_path.exists():\n",
    "    print(\"Loading cached logits and membership mask...\")\n",
    "    shadow_logits = np.load(shadow_path)\n",
    "    shadow_inmask = np.load(inmask_path).astype(bool)\n",
    "    target_logits = np.load(target_path)\n",
    "else:   ### thid is for smoke test only, just a toy example \n",
    "    print(\"Cached files not found; generating synthetic logits for a smoke test.\")\n",
    "    rng = np.random.default_rng(42)\n",
    "    N, M = 256, 8  # number of audit samples (N) and shadow models (M)\n",
    "    shadow_logits = rng.normal(size=(N, M))\n",
    "    target_logits = rng.normal(size=N)\n",
    "    shadow_inmask = rng.random((N, M)) < 0.5\n",
    "\n",
    "scores = vectorized_rmia_score(\n",
    "    shadow_logits=shadow_logits,\n",
    "    shadow_inmask=shadow_inmask,\n",
    "    target_logits=target_logits,\n",
    "    z_sample_size=min(256, max(1, shadow_logits.shape[0] - 1)),\n",
    "    gamma=1.0,\n",
    "    use_all_z=False,\n",
    "    batch_points=1024,\n",
    "    offline_a=0.33,  # set to None if your setup is online\n",
    ")\n",
    "\n",
    "print(f'Computed RMIA scores for {scores.shape[0]} samples.')\n",
    "print('First five scores:', scores[:5])\n",
    "\n",
    "# Load or synthesize membership labels for ROC computation\n",
    "target_inmask_path = Path('target_inmask.npy')\n",
    "if target_inmask_path.exists():\n",
    "    membership = np.load(target_inmask_path).astype(bool)\n",
    "else:\n",
    "    rng = np.random.default_rng(123)\n",
    "    membership = rng.random(scores.shape[0]) < 0.5\n",
    "\n",
    "from sklearn.metrics import roc_curve\n",
    "fpr, tpr, _ = roc_curve(membership.astype(int), scores)\n",
    "plot_results([(fpr, tpr)], labels=['Vectorized RMIA (cached)'])\n"
   ]
  },
  {
   "cell_type": "code",
   "execution_count": null,
   "metadata": {},
   "outputs": [],
   "source": []
  }
 ],
 "metadata": {
  "kernelspec": {
   "display_name": "Python 3",
   "language": "python",
   "name": "python3"
  },
  "language_info": {
   "codemirror_mode": {
    "name": "ipython",
    "version": 3
   },
   "file_extension": ".py",
   "mimetype": "text/x-python",
   "name": "python",
   "nbconvert_exporter": "python",
   "pygments_lexer": "ipython3",
   "version": "3.11.13"
  }
 },
 "nbformat": 4,
 "nbformat_minor": 4
}
