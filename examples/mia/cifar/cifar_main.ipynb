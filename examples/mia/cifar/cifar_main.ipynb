{
 "cells": [
  {
   "cell_type": "markdown",
   "metadata": {},
   "source": [
    "# CIFAR examples\n",
    "\n",
    "This code runs CIFAR10 and CIFAR100. To switch between these two datasets, update the `dataset` field in `train_config.yaml` and the `data_path` field in `audit.yaml` accordingly.\n"
   ]
  },
  {
   "cell_type": "code",
   "execution_count": 1,
   "metadata": {},
   "outputs": [],
   "source": [
    "import os\n",
    "import sys\n",
    "import yaml\n",
    "\n",
    "# project_root = os.path.abspath(os.path.join(os.getcwd(), \"../../..\"))\n",
    "# sys.path.insert(0, project_root)\n"
   ]
  },
  {
   "cell_type": "markdown",
   "metadata": {},
   "source": [
    "Next, we create the population dataset by concatenating the train and test data. To create the population, we make use of the UserDataset provided in the InputHandler."
   ]
  },
  {
   "cell_type": "code",
   "execution_count": 2,
   "metadata": {},
   "outputs": [],
   "source": [
    "from torchvision.datasets import CIFAR10, CIFAR100\n",
    "from torch import cat, tensor\n",
    "import pickle\n",
    "from cifar_handler import CifarInputHandler\n",
    "\n",
    "# Load the config.yaml file\n",
    "with open('train_config.yaml', 'r') as file:\n",
    "    train_config = yaml.safe_load(file)\n",
    "    \n",
    "root = train_config[\"data\"][\"data_dir\"]\n",
    "path = os.path.join(os.getcwd(), root)\n",
    "# Load the CIFAR train and test datasets\n",
    "if train_config[\"data\"][\"dataset\"] == \"cifar10\":\n",
    "    trainset = CIFAR10(root=root, train=True, download=True)\n",
    "    testset = CIFAR10(root=root, train=False, download=True)\n",
    "elif train_config[\"data\"][\"dataset\"] == \"cifar100\":\n",
    "    trainset = CIFAR100(root=root, train=True, download=True)\n",
    "    testset = CIFAR100(root=root, train=False, download=True)\n",
    "else:\n",
    "    raise ValueError(\"Unknown dataset type\")\n",
    "\n",
    "train_data = tensor(trainset.data).permute(0, 3, 1, 2).float() / 255  # (N, C, H, W)\n",
    "test_data = tensor(testset.data).permute(0, 3, 1, 2).float() / 255\n",
    "\n",
    "# Ensure train and test data looks correct\n",
    "assert train_data.shape[0] == 50000, \"Train data should have 50000 samples\"\n",
    "assert test_data.shape[0] == 10000, \"Test data should have 10000 samples\"\n",
    "assert train_data.shape[1] == 3, \"Data should have 3 channels\"\n",
    "assert test_data.shape[1] == 3, \"Data should have 3 channels\"\n",
    "assert train_data.max() <= 1 and train_data.min() >= 0, \"Data should be normalized\"\n",
    "assert test_data.max() <= 1 and test_data.min() >= 0, \"Data should be normalized\"\n",
    "\n",
    "# Concatenate train and test data into the population\n",
    "data = cat([train_data.clone().detach(), test_data.clone().detach()], dim=0)\n",
    "targets = cat([tensor(trainset.targets), tensor(testset.targets)], dim=0)\n",
    "# Create UserDataset object\n",
    "population_dataset = CifarInputHandler.UserDataset(data, targets)\n",
    "\n",
    "assert len(population_dataset) == 60000, \"Population dataset should have 60000 samples\"\n",
    "\n",
    "# Store the population dataset to be used by LeakPro\n",
    "dataset_name = train_config[\"data\"][\"dataset\"]\n",
    "file_path =  \"data/\"+ dataset_name + \".pkl\"\n",
    "if not os.path.exists(file_path):\n",
    "    with open(file_path, \"wb\") as file:\n",
    "        pickle.dump(population_dataset, file)\n",
    "        print(f\"Save data to {file_path}\")"
   ]
  },
  {
   "cell_type": "markdown",
   "metadata": {},
   "source": [
    "\n",
    "With the population dataset stored, we next create the train and test set that will go in to training the target model."
   ]
  },
  {
   "cell_type": "code",
   "execution_count": 3,
   "metadata": {},
   "outputs": [
    {
     "name": "stdout",
     "output_type": "stream",
     "text": [
      "Train mean: tensor([[[0.4917]],\n",
      "\n",
      "        [[0.4823]],\n",
      "\n",
      "        [[0.4464]]]), Train std: tensor([[[0.2470]],\n",
      "\n",
      "        [[0.2433]],\n",
      "\n",
      "        [[0.2616]]])\n"
     ]
    }
   ],
   "source": [
    "from sklearn.model_selection import train_test_split\n",
    "from torch.utils.data import DataLoader\n",
    "import numpy as np\n",
    "\n",
    "train_fraction = train_config[\"data\"][\"f_train\"]\n",
    "test_fraction = train_config[\"data\"][\"f_test\"]\n",
    "batch_size = train_config[\"train\"][\"batch_size\"]\n",
    "\n",
    "dataset_size = len(population_dataset)\n",
    "train_size = int(train_fraction * dataset_size)\n",
    "test_size = int(test_fraction * dataset_size)\n",
    "\n",
    "selected_index = np.random.choice(np.arange(dataset_size), train_size + test_size, replace=False)\n",
    "train_indices, test_indices = train_test_split(selected_index, test_size=test_size)\n",
    "\n",
    "train_subset = CifarInputHandler.UserDataset(data[train_indices], targets[train_indices])\n",
    "test_subset = CifarInputHandler.UserDataset(data[test_indices], targets[test_indices], **train_subset.return_params())\n",
    "\n",
    "train_loader = DataLoader(train_subset, batch_size = batch_size, shuffle = True)\n",
    "test_loader = DataLoader(test_subset, batch_size = batch_size, shuffle = False)\n",
    "\n",
    "# Evaluate mean and variance of the train data\n",
    "train_mean = train_subset.mean\n",
    "train_std = train_subset.std\n",
    "print (f\"Train mean: {train_mean}, Train std: {train_std}\")"
   ]
  },
  {
   "cell_type": "markdown",
   "metadata": {},
   "source": [
    "\n",
    "With the train and test dataloader in place, we train a ResNet18. \n",
    "After training, we call LeakPro to create metadata that will be used during auditing."
   ]
  },
  {
   "cell_type": "code",
   "execution_count": null,
   "metadata": {},
   "outputs": [
    {
     "name": "stderr",
     "output_type": "stream",
     "text": [
      "Epoch 1/25: 100%|██████████| 106/106 [00:24<00:00,  4.30it/s, acc=0.1839, loss=2.2661]\n"
     ]
    },
    {
     "name": "stdout",
     "output_type": "stream",
     "text": [
      "Validation loss at epoch 1: 2.3792\n"
     ]
    },
    {
     "name": "stderr",
     "output_type": "stream",
     "text": [
      "Epoch 2/25: 100%|██████████| 106/106 [00:23<00:00,  4.56it/s, acc=0.2523, loss=1.9311]\n"
     ]
    },
    {
     "name": "stdout",
     "output_type": "stream",
     "text": [
      "Validation loss at epoch 2: 4.0865\n"
     ]
    },
    {
     "name": "stderr",
     "output_type": "stream",
     "text": [
      "Epoch 3/25: 100%|██████████| 106/106 [00:23<00:00,  4.56it/s, acc=0.2918, loss=1.8670]\n"
     ]
    },
    {
     "name": "stdout",
     "output_type": "stream",
     "text": [
      "Validation loss at epoch 3: 2.1404\n"
     ]
    },
    {
     "name": "stderr",
     "output_type": "stream",
     "text": [
      "Epoch 4/25: 100%|██████████| 106/106 [00:23<00:00,  4.55it/s, acc=0.3068, loss=1.8130]\n"
     ]
    },
    {
     "name": "stdout",
     "output_type": "stream",
     "text": [
      "Validation loss at epoch 4: 2.1419\n"
     ]
    },
    {
     "name": "stderr",
     "output_type": "stream",
     "text": [
      "Epoch 5/25: 100%|██████████| 106/106 [00:23<00:00,  4.54it/s, acc=0.3434, loss=1.7150]\n"
     ]
    },
    {
     "name": "stdout",
     "output_type": "stream",
     "text": [
      "Validation loss at epoch 5: 2.0414\n"
     ]
    },
    {
     "name": "stderr",
     "output_type": "stream",
     "text": [
      "Epoch 6/25: 100%|██████████| 106/106 [00:24<00:00,  4.34it/s, acc=0.3848, loss=1.6283]\n"
     ]
    },
    {
     "name": "stdout",
     "output_type": "stream",
     "text": [
      "Validation loss at epoch 6: 2.6857\n"
     ]
    },
    {
     "name": "stderr",
     "output_type": "stream",
     "text": [
      "Epoch 7/25: 100%|██████████| 106/106 [00:24<00:00,  4.35it/s, acc=0.4103, loss=1.5633]\n"
     ]
    },
    {
     "name": "stdout",
     "output_type": "stream",
     "text": [
      "Validation loss at epoch 7: 2.9403\n"
     ]
    },
    {
     "name": "stderr",
     "output_type": "stream",
     "text": [
      "Epoch 8/25: 100%|██████████| 106/106 [00:24<00:00,  4.35it/s, acc=0.4315, loss=1.5066]\n"
     ]
    },
    {
     "name": "stdout",
     "output_type": "stream",
     "text": [
      "Validation loss at epoch 8: 1.8458\n"
     ]
    },
    {
     "name": "stderr",
     "output_type": "stream",
     "text": [
      "Epoch 9/25: 100%|██████████| 106/106 [00:24<00:00,  4.37it/s, acc=0.4467, loss=1.4662]\n"
     ]
    },
    {
     "name": "stdout",
     "output_type": "stream",
     "text": [
      "Validation loss at epoch 9: 2.0038\n"
     ]
    },
    {
     "name": "stderr",
     "output_type": "stream",
     "text": [
      "Epoch 10/25: 100%|██████████| 106/106 [00:23<00:00,  4.49it/s, acc=0.4519, loss=1.4591]\n"
     ]
    },
    {
     "name": "stdout",
     "output_type": "stream",
     "text": [
      "Validation loss at epoch 10: 1.7230\n"
     ]
    },
    {
     "name": "stderr",
     "output_type": "stream",
     "text": [
      "Epoch 11/25: 100%|██████████| 106/106 [00:23<00:00,  4.54it/s, acc=0.4638, loss=1.4353]\n"
     ]
    },
    {
     "name": "stdout",
     "output_type": "stream",
     "text": [
      "Validation loss at epoch 11: 1.7994\n"
     ]
    },
    {
     "name": "stderr",
     "output_type": "stream",
     "text": [
      "Epoch 12/25: 100%|██████████| 106/106 [00:23<00:00,  4.54it/s, acc=0.4755, loss=1.4079]\n"
     ]
    },
    {
     "name": "stdout",
     "output_type": "stream",
     "text": [
      "Validation loss at epoch 12: 1.5928\n"
     ]
    },
    {
     "name": "stderr",
     "output_type": "stream",
     "text": [
      "Epoch 13/25: 100%|██████████| 106/106 [00:23<00:00,  4.54it/s, acc=0.4920, loss=1.3850]\n"
     ]
    },
    {
     "name": "stdout",
     "output_type": "stream",
     "text": [
      "Validation loss at epoch 13: 1.6674\n"
     ]
    },
    {
     "name": "stderr",
     "output_type": "stream",
     "text": [
      "Epoch 14/25: 100%|██████████| 106/106 [00:23<00:00,  4.55it/s, acc=0.5076, loss=1.3458]\n"
     ]
    },
    {
     "name": "stdout",
     "output_type": "stream",
     "text": [
      "Validation loss at epoch 14: 1.5839\n"
     ]
    },
    {
     "name": "stderr",
     "output_type": "stream",
     "text": [
      "Epoch 15/25: 100%|██████████| 106/106 [00:23<00:00,  4.55it/s, acc=0.5150, loss=1.3233]\n"
     ]
    },
    {
     "name": "stdout",
     "output_type": "stream",
     "text": [
      "Validation loss at epoch 15: 2.3936\n"
     ]
    },
    {
     "name": "stderr",
     "output_type": "stream",
     "text": [
      "Epoch 16/25: 100%|██████████| 106/106 [00:23<00:00,  4.58it/s, acc=0.5292, loss=1.2802]\n"
     ]
    },
    {
     "name": "stdout",
     "output_type": "stream",
     "text": [
      "Validation loss at epoch 16: 6.4021\n"
     ]
    },
    {
     "name": "stderr",
     "output_type": "stream",
     "text": [
      "Epoch 17/25: 100%|██████████| 106/106 [00:23<00:00,  4.54it/s, acc=0.5391, loss=1.2537]\n"
     ]
    },
    {
     "name": "stdout",
     "output_type": "stream",
     "text": [
      "Validation loss at epoch 17: 2.1170\n"
     ]
    },
    {
     "name": "stderr",
     "output_type": "stream",
     "text": [
      "Epoch 18/25: 100%|██████████| 106/106 [00:23<00:00,  4.50it/s, acc=0.5518, loss=1.2230]\n"
     ]
    },
    {
     "name": "stdout",
     "output_type": "stream",
     "text": [
      "Validation loss at epoch 18: 1.6113\n"
     ]
    },
    {
     "name": "stderr",
     "output_type": "stream",
     "text": [
      "Epoch 19/25: 100%|██████████| 106/106 [00:13<00:00,  7.62it/s, acc=0.5597, loss=1.1993]\n"
     ]
    },
    {
     "name": "stdout",
     "output_type": "stream",
     "text": [
      "Validation loss at epoch 19: 1.9672\n"
     ]
    },
    {
     "name": "stderr",
     "output_type": "stream",
     "text": [
      "Epoch 20/25: 100%|██████████| 106/106 [00:11<00:00,  8.95it/s, acc=0.5690, loss=1.1788]\n"
     ]
    },
    {
     "name": "stdout",
     "output_type": "stream",
     "text": [
      "Validation loss at epoch 20: 1.4669\n"
     ]
    },
    {
     "name": "stderr",
     "output_type": "stream",
     "text": [
      "Epoch 21/25: 100%|██████████| 106/106 [00:11<00:00,  8.98it/s, acc=0.5784, loss=1.1499]\n"
     ]
    },
    {
     "name": "stdout",
     "output_type": "stream",
     "text": [
      "Validation loss at epoch 21: 1.4513\n"
     ]
    },
    {
     "name": "stderr",
     "output_type": "stream",
     "text": [
      "Epoch 22/25: 100%|██████████| 106/106 [00:11<00:00,  8.95it/s, acc=0.5883, loss=1.1292]\n"
     ]
    },
    {
     "name": "stdout",
     "output_type": "stream",
     "text": [
      "Validation loss at epoch 22: 1.3926\n"
     ]
    },
    {
     "name": "stderr",
     "output_type": "stream",
     "text": [
      "Epoch 23/25: 100%|██████████| 106/106 [00:12<00:00,  8.78it/s, acc=0.5947, loss=1.1069]\n"
     ]
    },
    {
     "name": "stdout",
     "output_type": "stream",
     "text": [
      "Validation loss at epoch 23: 1.1817\n"
     ]
    },
    {
     "name": "stderr",
     "output_type": "stream",
     "text": [
      "Epoch 24/25: 100%|██████████| 106/106 [00:11<00:00,  8.97it/s, acc=0.6023, loss=1.0943]\n"
     ]
    },
    {
     "name": "stdout",
     "output_type": "stream",
     "text": [
      "Validation loss at epoch 24: 1.1174\n"
     ]
    },
    {
     "name": "stderr",
     "output_type": "stream",
     "text": [
      "Epoch 25/25: 100%|██████████| 106/106 [00:11<00:00,  8.97it/s, acc=0.6066, loss=1.0820]\n"
     ]
    },
    {
     "name": "stdout",
     "output_type": "stream",
     "text": [
      "Validation loss at epoch 25: 1.1222\n"
     ]
    }
   ],
   "source": [
    "from torch import save, optim, nn\n",
    "from cifar_handler import CifarInputHandler\n",
    "from target_model_class import ResNet18, WideResNet\n",
    "\n",
    "# Train the model\n",
    "if not os.path.exists(\"target\"):\n",
    "    os.makedirs(\"target\")\n",
    "if train_config[\"data\"][\"dataset\"] == \"cifar10\":\n",
    "    num_classes = 10\n",
    "elif train_config[\"data\"][\"dataset\"] == \"cifar100\":\n",
    "    num_classes = 100\n",
    "else:\n",
    "    raise ValueError(\"Invalid dataset name\")\n",
    "\n",
    "# Create instance of target model\n",
    "#model = ResNet18(num_classes = num_classes)\n",
    "model =  WideResNet(depth=28, num_classes=num_classes, widen_factor=2)\n",
    "\n",
    "# Read out the relevant parameters for training\n",
    "lr = train_config[\"train\"][\"learning_rate\"]\n",
    "weight_decay = train_config[\"train\"][\"weight_decay\"]\n",
    "epochs = train_config[\"train\"][\"epochs\"]\n",
    "    \n",
    "# Create optimizer and loss function\n",
    "criterion = nn.CrossEntropyLoss()\n",
    "optimizer = optim.Adam(model.parameters(), lr=lr, weight_decay=weight_decay)\n",
    "\n",
    "# train target model\n",
    "train_result = CifarInputHandler().train(dataloader=train_loader,\n",
    "                            model=model,\n",
    "                            criterion=criterion,\n",
    "                            optimizer=optimizer,\n",
    "                            epochs=epochs)\n",
    "\n",
    "# Evaluate on test set\n",
    "test_result = CifarInputHandler().eval(test_loader, model, criterion)\n",
    "\n",
    "# Store the model and metadata\n",
    "model = train_result.model\n",
    "model.to(\"cpu\")\n",
    "with open(train_config[\"run\"][\"log_dir\"]+\"/target_model.pkl\", \"wb\") as f:\n",
    "    save(model.state_dict(), f)\n",
    "\n",
    "# Create metadata to be used by LeakPro\n",
    "from leakpro import LeakPro\n",
    "meta_data = LeakPro.make_mia_metadata(train_result = train_result,\n",
    "                                      optimizer = optimizer,\n",
    "                                      loss_fn = criterion,\n",
    "                                      dataloader = train_loader,\n",
    "                                      test_result = test_result,\n",
    "                                      epochs = epochs,\n",
    "                                      train_indices = train_indices,\n",
    "                                      test_indices = test_indices,\n",
    "                                      dataset_name = dataset_name)\n",
    "\n",
    "with open(\"target/model_metadata.pkl\", \"wb\") as f:\n",
    "    pickle.dump(meta_data, f)\n",
    "    "
   ]
  },
  {
   "cell_type": "markdown",
   "metadata": {},
   "source": [
    "Plot accuracy and test of training and test."
   ]
  },
  {
   "cell_type": "code",
   "execution_count": 5,
   "metadata": {},
   "outputs": [
    {
     "data": {
      "image/png": "[encoded data removed]",
      "text/plain": [
       "<Figure size 500x400 with 2 Axes>"
      ]
     },
     "metadata": {},
     "output_type": "display_data"
    }
   ],
   "source": [
    "import matplotlib.pyplot as plt\n",
    "\n",
    "train_acc = train_result.metrics.extra[\"accuracy_history\"]\n",
    "train_loss = train_result.metrics.extra[\"loss_history\"]\n",
    "test_acc = test_result.accuracy\n",
    "test_loss = test_result.loss\n",
    "\n",
    "# Plot training and test accuracy\n",
    "plt.figure(figsize=(5, 4))\n",
    "\n",
    "plt.subplot(1, 2, 1)\n",
    "plt.plot(train_acc, label='Train Accuracy')\n",
    "plt.plot(len(train_loss)-1, test_acc, 'ro', label='Test Accuracy')\n",
    "plt.xlabel('Epoch')\n",
    "plt.ylabel('Accuracy')\n",
    "plt.title('Accuracy over Epochs')\n",
    "plt.legend()\n",
    "\n",
    "# Plot training and test loss\n",
    "plt.subplot(1, 2, 2)\n",
    "plt.plot(train_loss, label='Train Loss')\n",
    "plt.plot(len(train_loss)-1, test_loss, 'ro', label='Test Loss')\n",
    "plt.xlabel('Epoch')\n",
    "plt.ylabel('Loss')\n",
    "plt.title('Loss over Epochs')\n",
    "plt.legend()\n",
    "\n",
    "plt.tight_layout()\n",
    "plt.show()"
   ]
  },
  {
   "cell_type": "markdown",
   "metadata": {},
   "source": [
    "## Privacy Auditing using LeakPro\n",
    "\n",
    "1. Create a LeakPro instance by feeding the CIFAR input handler.\n",
    "2. Run the attacks defined in audit.yaml\n",
    "    * Attacks are easily added/removed by simply adding to the audit.yaml\n",
    "3. Obtain the result objects"
   ]
  },
  {
   "cell_type": "code",
   "execution_count": 6,
   "metadata": {},
   "outputs": [
    {
     "name": "stderr",
     "output_type": "stream",
     "text": [
      "2025-10-30 14:56:26,860 INFO     Target model blueprint created from WideResNet in ./target_model_class.py.\n",
      "10/30/2025 14:56:26:INFO:Target model blueprint created from WideResNet in ./target_model_class.py.\n",
      "2025-10-30 14:56:26,937 INFO     Loaded target model metadata from ./target/model_metadata.pkl\n",
      "10/30/2025 14:56:26:INFO:Loaded target model metadata from ./target/model_metadata.pkl\n",
      "2025-10-30 14:56:27,027 INFO     Loaded target model from ./target\n",
      "10/30/2025 14:56:27:INFO:Loaded target model from ./target\n",
      "2025-10-30 14:56:28,256 INFO     Loaded population dataset from ./data/cifar10.pkl\n",
      "10/30/2025 14:56:28:INFO:Loaded population dataset from ./data/cifar10.pkl\n",
      "2025-10-30 14:56:33.078669: I tensorflow/core/util/port.cc:153] oneDNN custom operations are on. You may see slightly different numerical results due to floating-point round-off errors from different computation orders. To turn them off, set the environment variable `TF_ENABLE_ONEDNN_OPTS=0`.\n",
      "2025-10-30 14:56:33.141101: I tensorflow/core/platform/cpu_feature_guard.cc:210] This TensorFlow binary is optimized to use available CPU instructions in performance-critical operations.\n",
      "To enable the following instructions: AVX2 AVX512F AVX512_VNNI FMA, in other operations, rebuild TensorFlow with the appropriate compiler flags.\n",
      "2025-10-30 14:56:34.713816: I tensorflow/core/util/port.cc:153] oneDNN custom operations are on. You may see slightly different numerical results due to floating-point round-off errors from different computation orders. To turn them off, set the environment variable `TF_ENABLE_ONEDNN_OPTS=0`.\n",
      "2025-10-30 14:56:34,978 INFO     MIA attack factory loaded.\n",
      "10/30/2025 14:56:34:INFO:MIA attack factory loaded.\n",
      "2025-10-30 14:56:34,981 INFO     Creating shadow model handler singleton\n",
      "10/30/2025 14:56:34:INFO:Creating shadow model handler singleton\n",
      "2025-10-30 14:56:35,003 INFO     Logits already cached at leakpro_output/attack_cache/target_logits.npy\n",
      "10/30/2025 14:56:35:INFO:Logits already cached at leakpro_output/attack_cache/target_logits.npy\n",
      "2025-10-30 14:56:35,005 INFO     Creating distillation model handler singleton\n",
      "10/30/2025 14:56:35:INFO:Creating distillation model handler singleton\n",
      "2025-10-30 14:56:35,027 INFO     Logits already cached at leakpro_output/attack_cache/target_logits.npy\n",
      "10/30/2025 14:56:35:INFO:Logits already cached at leakpro_output/attack_cache/target_logits.npy\n",
      "2025-10-30 14:56:35,028 INFO     Configuring the RMIA attack\n",
      "10/30/2025 14:56:35:INFO:Configuring the RMIA attack\n",
      "2025-10-30 14:56:35,052 INFO     Added attack: rmia\n",
      "10/30/2025 14:56:35:INFO:Added attack: rmia\n",
      "2025-10-30 14:56:35,054 INFO     Shadow model handler singleton already exists, updating state\n",
      "10/30/2025 14:56:35:INFO:Shadow model handler singleton already exists, updating state\n",
      "2025-10-30 14:56:35,075 INFO     Logits already cached at leakpro_output/attack_cache/target_logits.npy\n",
      "10/30/2025 14:56:35:INFO:Logits already cached at leakpro_output/attack_cache/target_logits.npy\n",
      "2025-10-30 14:56:35,076 INFO     Distillation model handler singleton already exists, updating state\n",
      "10/30/2025 14:56:35:INFO:Distillation model handler singleton already exists, updating state\n",
      "2025-10-30 14:56:35,097 INFO     Logits already cached at leakpro_output/attack_cache/target_logits.npy\n",
      "10/30/2025 14:56:35:INFO:Logits already cached at leakpro_output/attack_cache/target_logits.npy\n",
      "2025-10-30 14:56:35,099 INFO     Configuring the BASE attack\n",
      "10/30/2025 14:56:35:INFO:Configuring the BASE attack\n",
      "2025-10-30 14:56:35,122 INFO     Added attack: base\n",
      "10/30/2025 14:56:35:INFO:Added attack: base\n",
      "2025-10-30 14:56:35,124 INFO     Shadow model handler singleton already exists, updating state\n",
      "10/30/2025 14:56:35:INFO:Shadow model handler singleton already exists, updating state\n",
      "2025-10-30 14:56:35,145 INFO     Logits already cached at leakpro_output/attack_cache/target_logits.npy\n",
      "10/30/2025 14:56:35:INFO:Logits already cached at leakpro_output/attack_cache/target_logits.npy\n",
      "2025-10-30 14:56:35,147 INFO     Distillation model handler singleton already exists, updating state\n",
      "10/30/2025 14:56:35:INFO:Distillation model handler singleton already exists, updating state\n",
      "2025-10-30 14:56:35,167 INFO     Logits already cached at leakpro_output/attack_cache/target_logits.npy\n",
      "10/30/2025 14:56:35:INFO:Logits already cached at leakpro_output/attack_cache/target_logits.npy\n",
      "2025-10-30 14:56:35,169 INFO     Configuring the RMIA attack\n",
      "10/30/2025 14:56:35:INFO:Configuring the RMIA attack\n",
      "2025-10-30 14:56:35,192 INFO     Added attack: rmia\n",
      "10/30/2025 14:56:35:INFO:Added attack: rmia\n",
      "2025-10-30 14:56:35,194 INFO     Shadow model handler singleton already exists, updating state\n",
      "10/30/2025 14:56:35:INFO:Shadow model handler singleton already exists, updating state\n",
      "2025-10-30 14:56:35,214 INFO     Logits already cached at leakpro_output/attack_cache/target_logits.npy\n",
      "10/30/2025 14:56:35:INFO:Logits already cached at leakpro_output/attack_cache/target_logits.npy\n",
      "2025-10-30 14:56:35,215 INFO     Distillation model handler singleton already exists, updating state\n",
      "10/30/2025 14:56:35:INFO:Distillation model handler singleton already exists, updating state\n",
      "2025-10-30 14:56:35,236 INFO     Logits already cached at leakpro_output/attack_cache/target_logits.npy\n",
      "10/30/2025 14:56:35:INFO:Logits already cached at leakpro_output/attack_cache/target_logits.npy\n",
      "2025-10-30 14:56:35,237 INFO     Configuring the RMIA attack\n",
      "10/30/2025 14:56:35:INFO:Configuring the RMIA attack\n",
      "2025-10-30 14:56:35,260 INFO     Added attack: rmia\n",
      "10/30/2025 14:56:35:INFO:Added attack: rmia\n",
      "2025-10-30 14:56:35,262 INFO     Shadow model handler singleton already exists, updating state\n",
      "10/30/2025 14:56:35:INFO:Shadow model handler singleton already exists, updating state\n",
      "2025-10-30 14:56:35,284 INFO     Logits already cached at leakpro_output/attack_cache/target_logits.npy\n",
      "10/30/2025 14:56:35:INFO:Logits already cached at leakpro_output/attack_cache/target_logits.npy\n",
      "2025-10-30 14:56:35,285 INFO     Distillation model handler singleton already exists, updating state\n",
      "10/30/2025 14:56:35:INFO:Distillation model handler singleton already exists, updating state\n",
      "2025-10-30 14:56:35,305 INFO     Logits already cached at leakpro_output/attack_cache/target_logits.npy\n",
      "10/30/2025 14:56:35:INFO:Logits already cached at leakpro_output/attack_cache/target_logits.npy\n",
      "2025-10-30 14:56:35,307 INFO     Configuring the RMIA attack\n",
      "10/30/2025 14:56:35:INFO:Configuring the RMIA attack\n",
      "2025-10-30 14:56:35,331 INFO     Added attack: rmia\n",
      "10/30/2025 14:56:35:INFO:Added attack: rmia\n",
      "2025-10-30 14:56:35,333 INFO     Preparing attack: rmia\n",
      "10/30/2025 14:56:35:INFO:Preparing attack: rmia\n",
      "2025-10-30 14:56:35,334 INFO     Preparing shadow models for RMIA attack\n",
      "10/30/2025 14:56:35:INFO:Preparing shadow models for RMIA attack\n",
      "2025-10-30 14:56:35,340 INFO     Check for 2 shadow models (dataset: 60000 points)\n",
      "10/30/2025 14:56:35:INFO:Check for 2 shadow models (dataset: 60000 points)\n",
      "2025-10-30 14:56:35,375 INFO     Number of existing models exceeds or equals the number of models to create\n",
      "10/30/2025 14:56:35:INFO:Number of existing models exceeds or equals the number of models to create\n",
      "2025-10-30 14:56:35,377 INFO     Loading shadow model 0\n",
      "10/30/2025 14:56:35:INFO:Loading shadow model 0\n",
      "2025-10-30 14:56:35,472 INFO     Loaded model from ./cifar10/leakpro_output/attack_objects/shadow_model/shadow_model_0.pkl\n",
      "10/30/2025 14:56:35:INFO:Loaded model from ./cifar10/leakpro_output/attack_objects/shadow_model/shadow_model_0.pkl\n",
      "2025-10-30 14:56:35,474 INFO     Loading shadow model 1\n",
      "10/30/2025 14:56:35:INFO:Loading shadow model 1\n",
      "2025-10-30 14:56:35,540 INFO     Loaded model from ./cifar10/leakpro_output/attack_objects/shadow_model/shadow_model_1.pkl\n",
      "10/30/2025 14:56:35:INFO:Loaded model from ./cifar10/leakpro_output/attack_objects/shadow_model/shadow_model_1.pkl\n",
      "2025-10-30 14:56:35,542 INFO     Loading metadata 0\n",
      "10/30/2025 14:56:35:INFO:Loading metadata 0\n",
      "2025-10-30 14:56:35,561 INFO     Loading metadata 1\n",
      "10/30/2025 14:56:35:INFO:Loading metadata 1\n",
      "2025-10-30 14:56:37,849 INFO     Loaded logits from leakpro_output/attack_cache/target_logits.npy\n",
      "10/30/2025 14:56:37:INFO:Loaded logits from leakpro_output/attack_cache/target_logits.npy\n",
      "2025-10-30 14:56:37,853 INFO     Loaded logits from leakpro_output/attack_cache/sm_0_logits.npy\n",
      "10/30/2025 14:56:37:INFO:Loaded logits from leakpro_output/attack_cache/sm_0_logits.npy\n",
      "2025-10-30 14:56:37,857 INFO     Loaded logits from leakpro_output/attack_cache/sm_1_logits.npy\n",
      "10/30/2025 14:56:37:INFO:Loaded logits from leakpro_output/attack_cache/sm_1_logits.npy\n",
      "2025-10-30 14:56:38,749 INFO     Running attack: rmia\n",
      "10/30/2025 14:56:38:INFO:Running attack: rmia\n",
      "2025-10-30 14:56:38,751 INFO     Running RMIA online attack\n",
      "10/30/2025 14:56:38:INFO:Running RMIA online attack\n",
      "2025-10-30 14:56:41,188 INFO     Saving results for attack: rmia to cifar10/leakpro_output/results\n",
      "10/30/2025 14:56:41:INFO:Saving results for attack: rmia to cifar10/leakpro_output/results\n",
      "2025-10-30 14:56:41,397 INFO     Creating ROC plot for attackrmia\n",
      "10/30/2025 14:56:41:INFO:Creating ROC plot for attackrmia\n",
      "2025-10-30 14:56:44,244 INFO     Creating SignalHistogram plot for attackrmia\n",
      "10/30/2025 14:56:44:INFO:Creating SignalHistogram plot for attackrmia\n",
      "2025-10-30 14:56:45,973 INFO     Preparing attack: base\n",
      "10/30/2025 14:56:45:INFO:Preparing attack: base\n",
      "2025-10-30 14:56:45,975 INFO     Preparing shadow models for BASE attack\n",
      "10/30/2025 14:56:45:INFO:Preparing shadow models for BASE attack\n",
      "2025-10-30 14:56:45,980 INFO     Check for 2 shadow models (dataset: 60000 points)\n",
      "10/30/2025 14:56:45:INFO:Check for 2 shadow models (dataset: 60000 points)\n",
      "2025-10-30 14:56:46,015 INFO     Number of existing models exceeds or equals the number of models to create\n",
      "10/30/2025 14:56:46:INFO:Number of existing models exceeds or equals the number of models to create\n",
      "2025-10-30 14:56:46,017 INFO     Loading shadow model 0\n",
      "10/30/2025 14:56:46:INFO:Loading shadow model 0\n",
      "2025-10-30 14:56:46,087 INFO     Loaded model from ./cifar10/leakpro_output/attack_objects/shadow_model/shadow_model_0.pkl\n",
      "10/30/2025 14:56:46:INFO:Loaded model from ./cifar10/leakpro_output/attack_objects/shadow_model/shadow_model_0.pkl\n",
      "2025-10-30 14:56:46,089 INFO     Loading shadow model 1\n",
      "10/30/2025 14:56:46:INFO:Loading shadow model 1\n",
      "2025-10-30 14:56:46,155 INFO     Loaded model from ./cifar10/leakpro_output/attack_objects/shadow_model/shadow_model_1.pkl\n",
      "10/30/2025 14:56:46:INFO:Loaded model from ./cifar10/leakpro_output/attack_objects/shadow_model/shadow_model_1.pkl\n",
      "2025-10-30 14:56:46,157 INFO     Loading metadata 0\n",
      "10/30/2025 14:56:46:INFO:Loading metadata 0\n",
      "2025-10-30 14:56:46,176 INFO     Loading metadata 1\n",
      "10/30/2025 14:56:46:INFO:Loading metadata 1\n",
      "2025-10-30 14:56:46,203 INFO     Running attack: base\n",
      "10/30/2025 14:56:46:INFO:Running attack: base\n",
      "2025-10-30 14:56:46,205 INFO     Running offline BASE attack with 2 shadow models\n",
      "10/30/2025 14:56:46:INFO:Running offline BASE attack with 2 shadow models\n",
      "2025-10-30 14:56:48,341 INFO     Loaded logits from leakpro_output/attack_cache/target_logits.npy\n",
      "10/30/2025 14:56:48:INFO:Loaded logits from leakpro_output/attack_cache/target_logits.npy\n",
      "2025-10-30 14:56:48,344 INFO     Loaded logits from leakpro_output/attack_cache/sm_0_logits.npy\n",
      "10/30/2025 14:56:48:INFO:Loaded logits from leakpro_output/attack_cache/sm_0_logits.npy\n",
      "2025-10-30 14:56:48,347 INFO     Loaded logits from leakpro_output/attack_cache/sm_1_logits.npy\n",
      "10/30/2025 14:56:48:INFO:Loaded logits from leakpro_output/attack_cache/sm_1_logits.npy\n",
      "2025-10-30 14:56:48,478 INFO     Saving results for attack: base to cifar10/leakpro_output/results\n",
      "10/30/2025 14:56:48:INFO:Saving results for attack: base to cifar10/leakpro_output/results\n",
      "2025-10-30 14:56:48,992 INFO     Creating ROC plot for attackbase\n",
      "10/30/2025 14:56:48:INFO:Creating ROC plot for attackbase\n",
      "2025-10-30 14:56:51,870 INFO     Creating SignalHistogram plot for attackbase\n",
      "10/30/2025 14:56:51:INFO:Creating SignalHistogram plot for attackbase\n",
      "2025-10-30 14:56:53,655 INFO     Preparing attack: rmia\n",
      "10/30/2025 14:56:53:INFO:Preparing attack: rmia\n",
      "2025-10-30 14:56:53,657 INFO     Preparing shadow models for RMIA attack\n",
      "10/30/2025 14:56:53:INFO:Preparing shadow models for RMIA attack\n",
      "2025-10-30 14:56:53,661 INFO     Check for 1 shadow models (dataset: 60000 points)\n",
      "10/30/2025 14:56:53:INFO:Check for 1 shadow models (dataset: 60000 points)\n",
      "2025-10-30 14:56:53,696 INFO     Number of existing models exceeds or equals the number of models to create\n",
      "10/30/2025 14:56:53:INFO:Number of existing models exceeds or equals the number of models to create\n",
      "2025-10-30 14:56:53,698 INFO     Loading shadow model 0\n",
      "10/30/2025 14:56:53:INFO:Loading shadow model 0\n",
      "2025-10-30 14:56:53,764 INFO     Loaded model from ./cifar10/leakpro_output/attack_objects/shadow_model/shadow_model_0.pkl\n",
      "10/30/2025 14:56:53:INFO:Loaded model from ./cifar10/leakpro_output/attack_objects/shadow_model/shadow_model_0.pkl\n",
      "2025-10-30 14:56:53,766 INFO     Loading metadata 0\n",
      "10/30/2025 14:56:53:INFO:Loading metadata 0\n",
      "2025-10-30 14:56:55,549 INFO     Loaded logits from leakpro_output/attack_cache/target_logits.npy\n",
      "10/30/2025 14:56:55:INFO:Loaded logits from leakpro_output/attack_cache/target_logits.npy\n",
      "2025-10-30 14:56:55,553 INFO     Loaded logits from leakpro_output/attack_cache/sm_0_logits.npy\n",
      "10/30/2025 14:56:55:INFO:Loaded logits from leakpro_output/attack_cache/sm_0_logits.npy\n",
      "2025-10-30 14:56:56,420 INFO     Running attack: rmia\n",
      "10/30/2025 14:56:56:INFO:Running attack: rmia\n",
      "2025-10-30 14:56:56,422 INFO     Running RMIA online attack\n",
      "10/30/2025 14:56:56:INFO:Running RMIA online attack\n",
      "/mnt/shared/richa/LeakPro/leakpro/attacks/mia_attacks/rmia.py:448: RuntimeWarning: Mean of empty slice\n",
      "  p_x_out = np.nanmean(masked_values, axis=0)\n",
      "2025-10-30 14:56:58,928 INFO     Saving results for attack: rmia to cifar10/leakpro_output/results\n",
      "10/30/2025 14:56:58:INFO:Saving results for attack: rmia to cifar10/leakpro_output/results\n",
      "2025-10-30 14:56:59,090 INFO     Creating ROC plot for attackrmia\n",
      "10/30/2025 14:56:59:INFO:Creating ROC plot for attackrmia\n",
      "2025-10-30 14:57:01,908 INFO     Creating SignalHistogram plot for attackrmia\n",
      "10/30/2025 14:57:01:INFO:Creating SignalHistogram plot for attackrmia\n",
      "2025-10-30 14:57:03,611 INFO     Preparing attack: rmia\n",
      "10/30/2025 14:57:03:INFO:Preparing attack: rmia\n",
      "2025-10-30 14:57:03,614 INFO     Preparing shadow models for RMIA attack\n",
      "10/30/2025 14:57:03:INFO:Preparing shadow models for RMIA attack\n",
      "2025-10-30 14:57:03,618 INFO     Check for 1 shadow models (dataset: 60000 points)\n",
      "10/30/2025 14:57:03:INFO:Check for 1 shadow models (dataset: 60000 points)\n",
      "2025-10-30 14:57:03,653 INFO     Number of existing models exceeds or equals the number of models to create\n",
      "10/30/2025 14:57:03:INFO:Number of existing models exceeds or equals the number of models to create\n",
      "2025-10-30 14:57:03,655 INFO     Loading shadow model 0\n",
      "10/30/2025 14:57:03:INFO:Loading shadow model 0\n",
      "2025-10-30 14:57:03,725 INFO     Loaded model from ./cifar10/leakpro_output/attack_objects/shadow_model/shadow_model_0.pkl\n",
      "10/30/2025 14:57:03:INFO:Loaded model from ./cifar10/leakpro_output/attack_objects/shadow_model/shadow_model_0.pkl\n",
      "2025-10-30 14:57:03,727 INFO     Loading metadata 0\n",
      "10/30/2025 14:57:03:INFO:Loading metadata 0\n",
      "2025-10-30 14:57:05,447 INFO     Loaded logits from leakpro_output/attack_cache/target_logits.npy\n",
      "10/30/2025 14:57:05:INFO:Loaded logits from leakpro_output/attack_cache/target_logits.npy\n",
      "2025-10-30 14:57:05,452 INFO     Loaded logits from leakpro_output/attack_cache/sm_0_logits.npy\n",
      "10/30/2025 14:57:05:INFO:Loaded logits from leakpro_output/attack_cache/sm_0_logits.npy\n",
      "2025-10-30 14:57:06,303 INFO     Running attack: rmia\n",
      "10/30/2025 14:57:06:INFO:Running attack: rmia\n",
      "2025-10-30 14:57:06,305 INFO     Running RMIA online attack\n",
      "10/30/2025 14:57:06:INFO:Running RMIA online attack\n",
      "/mnt/shared/richa/LeakPro/leakpro/attacks/mia_attacks/rmia.py:448: RuntimeWarning: Mean of empty slice\n",
      "  p_x_out = np.nanmean(masked_values, axis=0)\n",
      "2025-10-30 14:57:08,739 INFO     Saving results for attack: rmia to cifar10/leakpro_output/results\n",
      "10/30/2025 14:57:08:INFO:Saving results for attack: rmia to cifar10/leakpro_output/results\n",
      "2025-10-30 14:57:08,904 INFO     Creating ROC plot for attackrmia\n",
      "10/30/2025 14:57:08:INFO:Creating ROC plot for attackrmia\n",
      "2025-10-30 14:57:11,715 INFO     Creating SignalHistogram plot for attackrmia\n",
      "10/30/2025 14:57:11:INFO:Creating SignalHistogram plot for attackrmia\n",
      "2025-10-30 14:57:13,411 INFO     Preparing attack: rmia\n",
      "10/30/2025 14:57:13:INFO:Preparing attack: rmia\n",
      "2025-10-30 14:57:13,413 INFO     Preparing shadow models for RMIA attack\n",
      "10/30/2025 14:57:13:INFO:Preparing shadow models for RMIA attack\n",
      "2025-10-30 14:57:13,418 INFO     Check for 1 shadow models (dataset: 60000 points)\n",
      "10/30/2025 14:57:13:INFO:Check for 1 shadow models (dataset: 60000 points)\n",
      "2025-10-30 14:57:13,453 INFO     Number of existing models exceeds or equals the number of models to create\n",
      "10/30/2025 14:57:13:INFO:Number of existing models exceeds or equals the number of models to create\n",
      "2025-10-30 14:57:13,455 INFO     Loading shadow model 0\n",
      "10/30/2025 14:57:13:INFO:Loading shadow model 0\n",
      "2025-10-30 14:57:13,524 INFO     Loaded model from ./cifar10/leakpro_output/attack_objects/shadow_model/shadow_model_0.pkl\n",
      "10/30/2025 14:57:13:INFO:Loaded model from ./cifar10/leakpro_output/attack_objects/shadow_model/shadow_model_0.pkl\n",
      "2025-10-30 14:57:13,527 INFO     Loading metadata 0\n",
      "10/30/2025 14:57:13:INFO:Loading metadata 0\n",
      "2025-10-30 14:57:15,735 INFO     Loaded logits from leakpro_output/attack_cache/target_logits.npy\n",
      "10/30/2025 14:57:15:INFO:Loaded logits from leakpro_output/attack_cache/target_logits.npy\n",
      "2025-10-30 14:57:15,739 INFO     Loaded logits from leakpro_output/attack_cache/sm_0_logits.npy\n",
      "10/30/2025 14:57:15:INFO:Loaded logits from leakpro_output/attack_cache/sm_0_logits.npy\n",
      "2025-10-30 14:57:16,602 INFO     Running attack: rmia\n",
      "10/30/2025 14:57:16:INFO:Running attack: rmia\n",
      "2025-10-30 14:57:16,604 INFO     Running RMIA online attack\n",
      "10/30/2025 14:57:16:INFO:Running RMIA online attack\n",
      "/mnt/shared/richa/LeakPro/leakpro/attacks/mia_attacks/rmia.py:448: RuntimeWarning: Mean of empty slice\n",
      "  p_x_out = np.nanmean(masked_values, axis=0)\n",
      "2025-10-30 14:57:19,049 INFO     Saving results for attack: rmia to cifar10/leakpro_output/results\n",
      "10/30/2025 14:57:19:INFO:Saving results for attack: rmia to cifar10/leakpro_output/results\n",
      "2025-10-30 14:57:19,211 INFO     Creating ROC plot for attackrmia\n",
      "10/30/2025 14:57:19:INFO:Creating ROC plot for attackrmia\n",
      "2025-10-30 14:57:22,000 INFO     Creating SignalHistogram plot for attackrmia\n",
      "10/30/2025 14:57:22:INFO:Creating SignalHistogram plot for attackrmia\n",
      "2025-10-30 14:57:23,704 INFO     Creating PDF report\n",
      "10/30/2025 14:57:23:INFO:Creating PDF report\n",
      "2025-10-30 14:57:23,706 INFO     Initializing report handler...\n",
      "10/30/2025 14:57:23:INFO:Initializing report handler...\n",
      "2025-10-30 14:57:23,708 INFO     report_dir set to: ./cifar10/leakpro_output/results\n",
      "10/30/2025 14:57:23:INFO:report_dir set to: ./cifar10/leakpro_output/results\n",
      "2025-10-30 14:57:35,304 INFO     No results of type GIAResults found.\n",
      "10/30/2025 14:57:35:INFO:No results of type GIAResults found.\n",
      "2025-10-30 14:57:35,308 INFO     No results of type SinglingOutResults found.\n",
      "10/30/2025 14:57:35:INFO:No results of type SinglingOutResults found.\n",
      "2025-10-30 14:57:35,309 INFO     No results of type InferenceResults found.\n",
      "10/30/2025 14:57:35:INFO:No results of type InferenceResults found.\n",
      "2025-10-30 14:57:35,311 INFO     No results of type LinkabilityResults found.\n",
      "10/30/2025 14:57:35:INFO:No results of type LinkabilityResults found.\n",
      "2025-10-30 14:57:35,317 INFO     Could not compile PDF: Command '['which', 'pdflatex']' returned non-zero exit status 1.\n",
      "10/30/2025 14:57:35:INFO:Could not compile PDF: Command '['which', 'pdflatex']' returned non-zero exit status 1.\n",
      "2025-10-30 14:57:35,319 INFO     Make sure to install pdflatex with apt install texlive-latex-base\n",
      "10/30/2025 14:57:35:INFO:Make sure to install pdflatex with apt install texlive-latex-base\n",
      "2025-10-30 14:57:35,320 INFO     Auditing completed\n",
      "10/30/2025 14:57:35:INFO:Auditing completed\n"
     ]
    },
    {
     "data": {
      "text/plain": [
       "<Figure size 640x480 with 0 Axes>"
      ]
     },
     "metadata": {},
     "output_type": "display_data"
    }
   ],
   "source": [
    "# Read the config file\n",
    "config_path = \"audit.yaml\"\n",
    "from leakpro import LeakPro\n",
    "from cifar_handler import CifarInputHandler\n",
    "\n",
    "# Instantiate leakpro object\n",
    "leakpro = LeakPro(CifarInputHandler, config_path)\n",
    "\n",
    "# Run the audit \n",
    "mia_results = leakpro.run_audit(create_pdf=True)"
   ]
  },
  {
   "cell_type": "code",
   "execution_count": null,
   "metadata": {},
   "outputs": [],
   "source": []
  },
  {
   "cell_type": "code",
   "execution_count": null,
   "metadata": {},
   "outputs": [],
   "source": []
  }
 ],
 "metadata": {
  "kernelspec": {
   "display_name": "Python 3",
   "language": "python",
   "name": "python3"
  },
  "language_info": {
   "codemirror_mode": {
    "name": "ipython",
    "version": 3
   },
   "file_extension": ".py",
   "mimetype": "text/x-python",
   "name": "python",
   "nbconvert_exporter": "python",
   "pygments_lexer": "ipython3",
   "version": "3.11.13"
  }
 },
 "nbformat": 4,
 "nbformat_minor": 4
}
